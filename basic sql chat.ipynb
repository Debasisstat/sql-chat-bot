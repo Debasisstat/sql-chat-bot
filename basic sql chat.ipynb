{
 "cells": [
  {
   "cell_type": "code",
   "execution_count": 1,
   "id": "9c2826b3",
   "metadata": {},
   "outputs": [],
   "source": [
    "import sqlite3\n",
    "import pandas as pd\n",
    "from operator import itemgetter\n",
    "\n",
    "from langchain_ollama import ChatOllama\n",
    "from langchain_community.utilities.sql_database import SQLDatabase\n",
    "from langchain_community.tools.sql_database.tool import QuerySQLDatabaseTool\n",
    "from langchain.chains import create_sql_query_chain\n",
    "from langchain_core.prompts import PromptTemplate\n",
    "from langchain_core.runnables import RunnablePassthrough\n",
    "from langchain_core.output_parsers import StrOutputParser"
   ]
  },
  {
   "cell_type": "code",
   "execution_count": null,
   "id": "c539ad63",
   "metadata": {},
   "outputs": [],
   "source": [
    "### local db create\n",
    "\n",
    "data = pd.read_csv('employee_attrition_data.csv')\n",
    "conn = sqlite3.connect(\"employee_records.db\")\n",
    "\n",
    "# Write the DataFrames to the database as tables\n",
    "data.to_sql(\"employee_master\", conn, if_exists=\"replace\", index=False)\n",
    "\n",
    "conn.close()"
   ]
  },
  {
   "cell_type": "code",
   "execution_count": 3,
   "id": "8a8f49cb",
   "metadata": {},
   "outputs": [],
   "source": [
    "\n",
    "llm = ChatOllama(model='llama3:instruct', temperature=0.0)\n",
    "db=SQLDatabase.from_uri(\"sqlite:///employee_records.db\")\n",
    "\n",
    "\n",
    "table_info = db.get_table_info()"
   ]
  },
  {
   "cell_type": "code",
   "execution_count": 4,
   "id": "7f1c1dc9",
   "metadata": {},
   "outputs": [
    {
     "name": "stdout",
     "output_type": "stream",
     "text": [
      "SELECT \"Department\", COUNT(CASE WHEN \"Attrition\" = 'Yes' THEN 1 ELSE NULL END) AS AttritionCount, \n",
      "       COUNT(*) AS TotalEmployees\n",
      "FROM employee_master\n",
      "GROUP BY \"Department\"\n",
      "ORDER BY AttritionCount DESC;\n"
     ]
    }
   ],
   "source": [
    "\n",
    "\n",
    "template_str = f\"\"\"\n",
    "You are an expert SQL assistant.\n",
    "\n",
    "Your task is to take a user's natural language question and return only a syntactically correct SQL query using ONLY the table and column names exactly as shown.\n",
    "\n",
    "Use the schema below:\n",
    "{table_info}\n",
    "\n",
    "## Example:\n",
    "Question: Find employees with above-average performance rating but below-average income.\n",
    "SQL Query: SELECT * FROM employee_master WHERE \"PerformanceRating\" > (SELECT AVG(\"PerformanceRating\") FROM employee_master) AND \"MonthlyIncome\" < (SELECT AVG(\"MonthlyIncome\") FROM employee_master);\n",
    "\n",
    "## Rules:\n",
    "- Use only the tables/columns from the schema.\n",
    "- Return ONLY the SQL query (no markdown, no extra text, no formatting).\n",
    "- Do not need Here is the SQL query to answer this question:\n",
    "- Do not need to say I am an AI language model.\n",
    "- Only return the SQL query without any '''\n",
    "\n",
    "\n",
    "Question: {{question}}\n",
    "SQL Query: {{query}}\n",
    "\"\"\"\n",
    "\n",
    "answer_prompt = PromptTemplate.from_template(template_str)\n",
    "\n",
    "execute_query = QuerySQLDatabaseTool(db=db)\n",
    "write_query = create_sql_query_chain(llm, db)\n",
    "\n",
    "\n",
    "chain = (\n",
    "    RunnablePassthrough.assign(query=write_query)\n",
    "    .assign(result=itemgetter(\"query\") | execute_query)\n",
    "    .assign(question=itemgetter(\"question\")) \n",
    "    | answer_prompt\n",
    "    | llm\n",
    "    | StrOutputParser()\n",
    ")\n",
    "\n",
    "\n",
    "sql_query = chain.invoke({\"question\": \"Find the attrition rate by department.\"})\n",
    "print(sql_query)\n"
   ]
  },
  {
   "cell_type": "code",
   "execution_count": 5,
   "id": "53de01e8",
   "metadata": {},
   "outputs": [
    {
     "data": {
      "text/html": [
       "<div>\n",
       "<style scoped>\n",
       "    .dataframe tbody tr th:only-of-type {\n",
       "        vertical-align: middle;\n",
       "    }\n",
       "\n",
       "    .dataframe tbody tr th {\n",
       "        vertical-align: top;\n",
       "    }\n",
       "\n",
       "    .dataframe thead th {\n",
       "        text-align: right;\n",
       "    }\n",
       "</style>\n",
       "<table border=\"1\" class=\"dataframe\">\n",
       "  <thead>\n",
       "    <tr style=\"text-align: right;\">\n",
       "      <th></th>\n",
       "      <th>Department</th>\n",
       "      <th>AttritionCount</th>\n",
       "      <th>TotalEmployees</th>\n",
       "    </tr>\n",
       "  </thead>\n",
       "  <tbody>\n",
       "    <tr>\n",
       "      <th>0</th>\n",
       "      <td>Research &amp; Development</td>\n",
       "      <td>133</td>\n",
       "      <td>961</td>\n",
       "    </tr>\n",
       "    <tr>\n",
       "      <th>1</th>\n",
       "      <td>Sales</td>\n",
       "      <td>92</td>\n",
       "      <td>446</td>\n",
       "    </tr>\n",
       "    <tr>\n",
       "      <th>2</th>\n",
       "      <td>Human Resources</td>\n",
       "      <td>12</td>\n",
       "      <td>63</td>\n",
       "    </tr>\n",
       "  </tbody>\n",
       "</table>\n",
       "</div>"
      ],
      "text/plain": [
       "               Department  AttritionCount  TotalEmployees\n",
       "0  Research & Development             133             961\n",
       "1                   Sales              92             446\n",
       "2         Human Resources              12              63"
      ]
     },
     "execution_count": 5,
     "metadata": {},
     "output_type": "execute_result"
    }
   ],
   "source": [
    "conn = sqlite3.connect(\"employee_records.db\")\n",
    "\n",
    "query = f\"\"\"{sql_query}\"\"\"\n",
    "\n",
    "df = pd.read_sql_query(query, conn)\n",
    "conn.close()\n",
    "\n",
    "df.head()"
   ]
  },
  {
   "cell_type": "code",
   "execution_count": null,
   "id": "af0931a0",
   "metadata": {},
   "outputs": [],
   "source": []
  }
 ],
 "metadata": {
  "kernelspec": {
   "display_name": "sql",
   "language": "python",
   "name": "python3"
  },
  "language_info": {
   "codemirror_mode": {
    "name": "ipython",
    "version": 3
   },
   "file_extension": ".py",
   "mimetype": "text/x-python",
   "name": "python",
   "nbconvert_exporter": "python",
   "pygments_lexer": "ipython3",
   "version": "3.12.7"
  }
 },
 "nbformat": 4,
 "nbformat_minor": 5
}
