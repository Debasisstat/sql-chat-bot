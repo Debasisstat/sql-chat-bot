{
 "cells": [
  {
   "cell_type": "code",
   "execution_count": 8,
   "id": "9c2826b3",
   "metadata": {},
   "outputs": [],
   "source": [
    "# import sqlite3\n",
    "import pandas as pd\n",
    "from operator import itemgetter\n",
    "\n",
    "from langchain_ollama import ChatOllama\n",
    "from langchain_community.utilities.sql_database import SQLDatabase\n",
    "from langchain_community.tools.sql_database.tool import QuerySQLDatabaseTool\n",
    "from langchain.chains import create_sql_query_chain\n",
    "from langchain_core.prompts import PromptTemplate\n",
    "from langchain_core.runnables import RunnablePassthrough\n",
    "from langchain_core.output_parsers import StrOutputParser\n",
    "from sqlalchemy import create_engine\n",
    "\n",
    "import mysql.connector"
   ]
  },
  {
   "cell_type": "code",
   "execution_count": 2,
   "id": "c539ad63",
   "metadata": {},
   "outputs": [],
   "source": [
    "# ### local db create\n",
    "\n",
    "# data = pd.read_csv('employee_attrition_data.csv')\n",
    "# conn = sqlite3.connect(\"employee_records.db\")\n",
    "\n",
    "# # Write the DataFrames to the database as tables\n",
    "# data.to_sql(\"employee_master\", conn, if_exists=\"replace\", index=False)\n",
    "\n",
    "# conn.close()\n",
    "\n"
   ]
  },
  {
   "cell_type": "code",
   "execution_count": 3,
   "id": "019b8da0",
   "metadata": {},
   "outputs": [],
   "source": [
    "username = \"root\"\n",
    "password = \"Debasis#1\"\n",
    "database = \"employeedb\"\n",
    "host = \"localhost\"  \n",
    "port = 3306"
   ]
  },
  {
   "cell_type": "code",
   "execution_count": 9,
   "id": "8a8f49cb",
   "metadata": {},
   "outputs": [],
   "source": [
    "\n",
    "llm = ChatOllama(model='llama3:instruct', temperature=0.0)\n",
    "db = SQLDatabase.from_uri(f\"mysql+mysqlconnector://{username}:{password}@{host}:{port}/{database}\")\n",
    "engine = create_engine(f\"mysql+mysqlconnector://{username}:{password}@{host}:{port}/{database}\")\n",
    "\n",
    "\n",
    "table_info = db.get_table_info()"
   ]
  },
  {
   "cell_type": "code",
   "execution_count": 5,
   "id": "bdf32af7",
   "metadata": {},
   "outputs": [],
   "source": [
    "# table_info"
   ]
  },
  {
   "cell_type": "code",
   "execution_count": 11,
   "id": "7f1c1dc9",
   "metadata": {},
   "outputs": [
    {
     "name": "stdout",
     "output_type": "stream",
     "text": [
      "SELECT `per_no`, `sec_cd` FROM employeerecord WHERE `ota_hr` > 0 AND `shft_date` = CURDATE()\n"
     ]
    }
   ],
   "source": [
    "\n",
    "\n",
    "template_str = f\"\"\"\n",
    "You are an expert SQL assistant.\n",
    "\n",
    "Your task is to take a user's natural language question and return only a syntactically correct SQL query using ONLY the table and column names exactly as shown.\n",
    "\n",
    "Use the schema below:\n",
    "{table_info}\n",
    "\n",
    "## Example:\n",
    "Question: Find employees with above-average performance rating but below-average income.\n",
    "SQL Query: SELECT * FROM employee_master WHERE \"PerformanceRating\" > (SELECT AVG(\"PerformanceRating\") FROM employee_master) AND \"MonthlyIncome\" < (SELECT AVG(\"MonthlyIncome\") FROM employee_master);\n",
    "\n",
    "## Rules:\n",
    "- Use only the tables/columns from the schema.\n",
    "- Return ONLY the SQL query (no markdown, no extra text, no formatting).\n",
    "- Do not need Here is the SQL query to answer this question:\n",
    "- Do not need to say I am an AI language model.\n",
    "- Only return the SQL query without any '''\n",
    "\n",
    "\n",
    "Question: {{question}}\n",
    "SQL Query: {{query}}\n",
    "\"\"\"\n",
    "\n",
    "answer_prompt = PromptTemplate.from_template(template_str)\n",
    "\n",
    "execute_query = QuerySQLDatabaseTool(db=db)\n",
    "write_query = create_sql_query_chain(llm, db)\n",
    "\n",
    "\n",
    "chain = (\n",
    "    RunnablePassthrough.assign(query=write_query)\n",
    "    .assign(result=itemgetter(\"query\") | execute_query)\n",
    "    .assign(question=itemgetter(\"question\")) \n",
    "    | answer_prompt\n",
    "    | llm\n",
    "    | StrOutputParser()\n",
    ")\n",
    "\n",
    "\n",
    "sql_query = chain.invoke({\"question\": \"List employees who worked overtime today.\"})\n",
    "print(sql_query)\n"
   ]
  },
  {
   "cell_type": "code",
   "execution_count": 14,
   "id": "53de01e8",
   "metadata": {},
   "outputs": [
    {
     "name": "stdout",
     "output_type": "stream",
     "text": [
      "Empty DataFrame\n",
      "Columns: [per_no, sec_cd]\n",
      "Index: []\n"
     ]
    }
   ],
   "source": [
    "\n",
    "\n",
    "df = pd.read_sql_query(sql_query, engine)\n",
    "\n",
    "print(df.head())"
   ]
  },
  {
   "cell_type": "code",
   "execution_count": null,
   "id": "af0931a0",
   "metadata": {},
   "outputs": [],
   "source": []
  }
 ],
 "metadata": {
  "kernelspec": {
   "display_name": "sql",
   "language": "python",
   "name": "python3"
  },
  "language_info": {
   "codemirror_mode": {
    "name": "ipython",
    "version": 3
   },
   "file_extension": ".py",
   "mimetype": "text/x-python",
   "name": "python",
   "nbconvert_exporter": "python",
   "pygments_lexer": "ipython3",
   "version": "3.12.7"
  }
 },
 "nbformat": 4,
 "nbformat_minor": 5
}
